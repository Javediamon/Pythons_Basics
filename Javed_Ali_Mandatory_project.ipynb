{
  "nbformat": 4,
  "nbformat_minor": 0,
  "metadata": {
    "colab": {
      "provenance": []
    },
    "kernelspec": {
      "name": "python3",
      "display_name": "Python 3"
    },
    "language_info": {
      "name": "python"
    }
  },
  "cells": [
    {
      "cell_type": "markdown",
      "source": [
        "#Mandatory Project Questions\n",
        "\n",
        "**Python Project 101**"
      ],
      "metadata": {
        "id": "4hN_gj-bGB_3"
      }
    },
    {
      "cell_type": "markdown",
      "source": [
        "Q1: You are working in a bank, and you have been given two lists of the employees who worked in 2021. Employees’ names in list 1 are Ramesh, Suresh, Mahesh, Ali, Jacob, and Saritha. List 2 contains the names of Ali, Mukesh, Mahesh, Jacob, Sai, and Sarita. Please write a program that helps to identify people who are common in both lists. Please do not use any in-built function."
      ],
      "metadata": {
        "id": "hcglLjfqGRLE"
      }
    },
    {
      "cell_type": "code",
      "source": [
        "list1=['Ramesh','Suresh','Mahesh','Ali','Jacob','Saritha']\n",
        "list2=['Ali','Mukesh', 'Mahesh','Jacob','Sai','Sarita']\n",
        "common_employees=[]\n",
        "\n",
        "# Find common employees in both list\n",
        "for emp1 in list1:\n",
        "  for emp2 in list2:\n",
        "    if emp1==emp2:\n",
        "      common_employees.append(emp1)\n",
        "      break\n",
        "print(common_employees)"
      ],
      "metadata": {
        "colab": {
          "base_uri": "https://localhost:8080/"
        },
        "id": "6YNtY4oCGVB0",
        "outputId": "f1ea2c8e-afd6-4335-ff89-ee5a77d299bd"
      },
      "execution_count": 15,
      "outputs": [
        {
          "output_type": "stream",
          "name": "stdout",
          "text": [
            "['Mahesh', 'Ali', 'Jacob']\n"
          ]
        }
      ]
    },
    {
      "cell_type": "markdown",
      "source": [
        "Q2: While entering data, someone entered a few names as a common string “Ramesh Suresh Mohit”. Please write a program which separates all the names and converts them into a list. Once converted into a list, please write a program that adds their age.\n",
        "\n",
        "Ramesh:  25\n",
        "\n",
        "Suresh: 22\n",
        "\n",
        "Mohit: 26"
      ],
      "metadata": {
        "id": "W9X81aEyJokb"
      }
    },
    {
      "cell_type": "code",
      "source": [
        "common_name_string =  \"Ramesh Suresh Mohit\"\n",
        "\n",
        "# Converting common names into a list\n",
        "\n",
        "common_name_list = common_name_string.split()\n",
        "\n",
        "# Dictionary mapping names to ages\n",
        "\n",
        "ages_dict = {\"Ramesh\": 25,\"Suresh\": 22,\"Mohit\": 26}\n",
        "\n",
        "# Adding ages of the common names\n",
        "\n",
        "Total_age = 0\n",
        "for name in common_name_list:\n",
        "  if name in ages_dict:\n",
        "    Total_age+=ages_dict[name]\n",
        "\n",
        "    #Result\n",
        "\n",
        "print(\"Names List:\", common_name_list)\n",
        "print(\"Total Age of Common Names:\", Total_age)\n",
        "\n",
        "\n"
      ],
      "metadata": {
        "colab": {
          "base_uri": "https://localhost:8080/"
        },
        "id": "qoBjuHOtJpjq",
        "outputId": "01ac0cfd-7801-4643-dc44-327356d90a75"
      },
      "execution_count": 25,
      "outputs": [
        {
          "output_type": "stream",
          "name": "stdout",
          "text": [
            "Names List: ['Ramesh', 'Suresh', 'Mohit']\n",
            "Total Age of Common Names: 73\n"
          ]
        }
      ]
    },
    {
      "cell_type": "markdown",
      "source": [
        "Q3: You are working in a medical store. A patient came to your medical store and asked to buy 2 strips of paracetamol, 3 strips of azithromycin, and 5 strips of Vitamin C. One strip of paracetamol costs Rs 35, one strip of azithromycin costs Rs 49, and one strip of vitamin c costs Rs. 33. Patient gave you Rs 2000. Please tell us what is the total cost of each medicine, the total cost of all medicine, and how much money you refunded to the patient."
      ],
      "metadata": {
        "id": "UugvYLN9Q8ZV"
      }
    },
    {
      "cell_type": "code",
      "source": [
        "# Medicine Prices\n",
        "\n",
        "paracetamol_price = 35\n",
        "azithromycin_price = 49\n",
        "vitamin_c_price = 33\n",
        "\n",
        "# Quantities requested by the patient\n",
        "\n",
        "paracetamol_quantity = 2\n",
        "azithromycin_quantity = 3\n",
        "vitamin_c_quantity = 5\n",
        "\n",
        "# Given amount of money from the patient\n",
        "amount_paid = 2000\n",
        "\n",
        "# Calculate total cost of each medicine\n",
        "\n",
        "Total_cost_of_paracetamol = paracetamol_price * paracetamol_quantity\n",
        "Total_cost_of_azithromycin = azithromycin_price * azithromycin_quantity\n",
        "Total_cost_of_vitamin_c = vitamin_c_price * vitamin_c_quantity\n",
        "\n",
        "# cost of all medicines\n",
        "\n",
        "total_cost_of_all_medicines = Total_cost_of_paracetamol + Total_cost_of_azithromycin + Total_cost_of_vitamin_c\n",
        "\n",
        "#amount refund to patient\n",
        "\n",
        "Refund_amount = amount_paid - total_cost_of_all_medicines\n",
        "\n",
        "#print the results\n",
        "\n",
        "print('Total cost of paracetamol:',Total_cost_of_paracetamol)\n",
        "print('Total cost of azithromycin:',Total_cost_of_azithromycin)\n",
        "print('Total cost of vitamin_c:',Total_cost_of_vitamin_c)\n",
        "print('Total cost of all medicines:',total_cost_of_all_medicines)\n",
        "print('Refund amount:',Refund_amount)\n",
        "\n"
      ],
      "metadata": {
        "colab": {
          "base_uri": "https://localhost:8080/"
        },
        "id": "e_BkrHWURe7Y",
        "outputId": "24b09f79-4998-4779-c17a-1e81c337a638"
      },
      "execution_count": 29,
      "outputs": [
        {
          "output_type": "stream",
          "name": "stdout",
          "text": [
            "Total cost of paracetamol: 70\n",
            "Total cost of azithromycin: 147\n",
            "Total cost of vitamin_c: 165\n",
            "Total cost of all medicines: 382\n",
            "Refund amount: 1618\n"
          ]
        }
      ]
    },
    {
      "cell_type": "markdown",
      "source": [
        "Q4: Accept a sentence as input and find the number of vowels in it. Assume that the sentence has no punctuation marks. For example, I am learning python contains 6 vowels. This function should be applicable for all other different sentences"
      ],
      "metadata": {
        "id": "zd3eCGxYW7QP"
      }
    },
    {
      "cell_type": "code",
      "source": [
        "def count_vowels(sentence):\n",
        "  vowel = 'aeiouAEIOU'\n",
        "  vowel_count =0\n",
        "  for alph in sentence:\n",
        "    if alph in vowel:\n",
        "       vowel_count+=1\n",
        "  return vowel_count\n",
        "\n",
        "sentence =input('Enter a sentence:')\n",
        "num_vowels = count_vowels(sentence)\n",
        "print('Number of vowels:',num_vowels)"
      ],
      "metadata": {
        "colab": {
          "base_uri": "https://localhost:8080/"
        },
        "id": "ukU6lauTXYc4",
        "outputId": "990cc131-298c-4f69-8ecd-90f6021a101e"
      },
      "execution_count": 40,
      "outputs": [
        {
          "output_type": "stream",
          "name": "stdout",
          "text": [
            "Enter a sentence:i am good boy\n",
            "Number of vowels: 5\n"
          ]
        }
      ]
    },
    {
      "cell_type": "markdown",
      "source": [
        "Q5: You have been appointed by the election commission to create a website. Your first task is to work on a program which tells candidates if they are eligible for voting or not. If they are eligible, your output should be ‘Congrats! You are eligible’; otherwise, it should tell that you have to return after X number of years. The eligibility criteria for voting is 18 years.\n",
        "\n",
        "\n",
        "\n",
        "For example, If someone is 18 or above, your output should be ‘Congrats! You are eligible’. If someone’s age is 15 years, it should print output as ‘return after 3 years’.  "
      ],
      "metadata": {
        "id": "FJmC6GpcaMvd"
      }
    },
    {
      "cell_type": "code",
      "source": [
        "def voting_elig(age):\n",
        "  if age >=18:\n",
        "    return 'Congrats! You are eligible'\n",
        "  else:\n",
        "    waiting_years = 18 - age\n",
        "    return 'return after {} years'.format(waiting_years)\n",
        "\n",
        "age= int(input('Enter your age:')) # Accept candidate age\n",
        "print(voting_elig(age)) # call the function to check eligibility of candidate\n"
      ],
      "metadata": {
        "colab": {
          "base_uri": "https://localhost:8080/"
        },
        "id": "_47md59Xbzje",
        "outputId": "24d6d62c-cab0-4e54-8335-b49a2bc70d1b"
      },
      "execution_count": 1,
      "outputs": [
        {
          "output_type": "stream",
          "name": "stdout",
          "text": [
            "Enter your age:7\n",
            "return after 11 years\n"
          ]
        }
      ]
    },
    {
      "cell_type": "markdown",
      "source": [
        "Q6: Given a list of integers, find the cumulative sum of the elements of the list and store them in another list.\n",
        "\n",
        "\n",
        "\n",
        "A = [1, 2, 3, 4, 5]\n",
        "\n",
        "\n",
        "\n",
        "Output:\n",
        "\n",
        "[1, 3, 6, 10, 15]"
      ],
      "metadata": {
        "id": "Lydc_mDfur87"
      }
    },
    {
      "cell_type": "code",
      "source": [
        "A = [1,2,3,4,5]\n",
        "cumulative_sum= []\n",
        "sum=0\n",
        "for i in A:\n",
        "  sum+=i\n",
        "  (cumulative_sum.append(sum))\n",
        "\n",
        "print(cumulative_sum)"
      ],
      "metadata": {
        "colab": {
          "base_uri": "https://localhost:8080/"
        },
        "id": "sNe81bLNu7Fp",
        "outputId": "578d36f4-0cad-46d1-c089-ecfad80f2156"
      },
      "execution_count": 6,
      "outputs": [
        {
          "output_type": "stream",
          "name": "stdout",
          "text": [
            "[1, 3, 6, 10, 15]\n"
          ]
        }
      ]
    },
    {
      "cell_type": "markdown",
      "source": [
        "Q7:\n",
        "\n",
        "WAP to encode a message entered by user as per below conditions:\n",
        "\n",
        "\n",
        "\n",
        "for every word in the sentence,\n",
        "\n",
        "1. If the word starts with a vowel, encode it as the first and last letter of the word.\n",
        "\n",
        "2. If the word starts with a consonant, remove all vowels from it.\n",
        "\n",
        "\n",
        "\n",
        "Ensure the case insensitive comparisons/checks are performed.\n",
        "\n",
        "\n",
        "\n",
        "Please enter your text:The quick brown fox used to sleep inside this box\n",
        "\n",
        "Encoded Msg: Th qck brwn fx ud t slp ie ths bx"
      ],
      "metadata": {
        "id": "pHQd7FjOwGZs"
      }
    },
    {
      "cell_type": "code",
      "source": [
        "# Accept message from the user\n",
        "message = input(\"Please enter your text: \")\n",
        "\n",
        "# Split the message into words\n",
        "words = message.split()\n",
        "\n",
        "encoded_words = []\n",
        "\n",
        "#apply loop through each word\n",
        "for i in words:\n",
        "    if i[0] in \"aeiou\":\n",
        "        encoded_word = i[0] + i[-1]\n",
        "    else:\n",
        "        encoded_word = ''.join( i for i in i if i[0] not in \"aeiou\")\n",
        "    encoded_words.append(encoded_word)\n",
        "\n",
        "# Join the encoded words to create the encoded message\n",
        "encoded_message = ' '.join(encoded_words)\n",
        "\n",
        "print(\"Encoded Msg:\", encoded_message)\n",
        "\n",
        "\n",
        "\n",
        "\n",
        "\n",
        "\n",
        "\n",
        "\n",
        "\n",
        "\n",
        ""
      ],
      "metadata": {
        "colab": {
          "base_uri": "https://localhost:8080/"
        },
        "id": "_vJDXh5fwO-S",
        "outputId": "0cab4521-8b7b-47af-8928-f0670cf1214f"
      },
      "execution_count": 101,
      "outputs": [
        {
          "output_type": "stream",
          "name": "stdout",
          "text": [
            "Please enter your text: The quick brown fox used to sleep inside this box\n",
            "Encoded Msg: Th qck brwn fx ud t slp ie ths bx\n"
          ]
        }
      ]
    },
    {
      "cell_type": "markdown",
      "source": [
        "Q8:\n",
        "\n",
        "Write a program to implement run length encoding of a string\n",
        "\n",
        "\n",
        "\n",
        "RLE:Consecutive repetition of a character has to be replaced with the count of occurrences and the character.\n",
        "\n",
        "\n",
        "\n",
        "Enter your string :aabbbccdddae\n",
        "\n",
        "Encoded: 2a3b2c3d1a1e"
      ],
      "metadata": {
        "id": "BIkUInp4E4ZR"
      }
    },
    {
      "cell_type": "code",
      "source": [
        "input_string ='aabbbccdddae'\n",
        "encoded =''\n",
        "l=len(input_string)\n",
        "count =1\n",
        "for i in range(1,l):\n",
        "  if input_string[i] == input_string[i-1]:\n",
        "    count+=1\n",
        "  else:\n",
        "    encoded += str(count)+input_string[i-1]\n",
        "    count=1\n",
        "encoded += str(count) + input_string[-1]\n",
        "print(encoded)"
      ],
      "metadata": {
        "colab": {
          "base_uri": "https://localhost:8080/"
        },
        "id": "uTTlVawVE7zZ",
        "outputId": "4d6e69b5-7cd4-4de0-8cad-07585aa0aaed"
      },
      "execution_count": 119,
      "outputs": [
        {
          "output_type": "stream",
          "name": "stdout",
          "text": [
            "2a3b2c3d1a1e\n"
          ]
        }
      ]
    }
  ]
}